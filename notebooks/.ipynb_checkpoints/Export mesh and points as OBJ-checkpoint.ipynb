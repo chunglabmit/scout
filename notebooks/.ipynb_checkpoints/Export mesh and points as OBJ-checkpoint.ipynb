{
 "cells": [
  {
   "cell_type": "code",
   "execution_count": 80,
   "metadata": {},
   "outputs": [],
   "source": [
    "import os\n",
    "import numpy as np\n",
    "import plyfile\n",
    "from scout import cyto\n",
    "from scout.utils import write_csv, read_csv"
   ]
  },
  {
   "cell_type": "code",
   "execution_count": 2,
   "metadata": {
    "scrolled": true
   },
   "outputs": [
    {
     "data": {
      "text/plain": [
       "['syto.zarr',\n",
       " 'Ex0_hist.csv',\n",
       " 'Ex2_hist.csv',\n",
       " 'nuclei_binary.zarr',\n",
       " 'nuclei_probability.zarr',\n",
       " 'nuclei_fluorescence',\n",
       " 'segment_ventricles.tif',\n",
       " 'org1_ventricles.gif',\n",
       " 'mesh.obj',\n",
       " 'Ex2_rescaled',\n",
       " 'nuclei_morphologies.csv',\n",
       " 'syto_down6x',\n",
       " 'organoid_features.xlsx',\n",
       " 'syto_down6x.tif',\n",
       " 'niche_labels.npy',\n",
       " 'Ex1_hist.csv',\n",
       " 'Ex_2_Em_2_destriped_stitched',\n",
       " 'cyto_profiles.npy',\n",
       " 'nuclei_foreground.zarr',\n",
       " 'celltype_names.csv',\n",
       " 'centroids.npy',\n",
       " 'nuclei_gating.npy',\n",
       " 'cyto_profiles_sample.npy',\n",
       " 'sox2.zarr',\n",
       " 'niche_names.csv',\n",
       " 'Ex_1_Em_1_destriped_stitched',\n",
       " 'voxel_size.csv',\n",
       " 'mesh_ventricles.pkl',\n",
       " 'nuclei_segmentations.npz',\n",
       " 'tbr1.zarr',\n",
       " 'cyto_labels.npy',\n",
       " 'metadata.txt',\n",
       " 'cyto_names.csv',\n",
       " 'niche_proximities.npy',\n",
       " 'Ex0_rescaled',\n",
       " 'segment_foreground.tif',\n",
       " 'Ex_0_Em_0_destriped_stitched_master',\n",
       " 'cyto_sample_index.npy',\n",
       " 'Ex1_rescaled',\n",
       " 'centroids_um.npy']"
      ]
     },
     "execution_count": 2,
     "metadata": {},
     "output_type": "execute_result"
    }
   ],
   "source": [
    "working_dir = '/data/datasets/organoid_phenotyping/d35_vs_d60/d35/20190419_14_35_07_AA_org1_488LP13_561LP120_642LP60/'\n",
    "\n",
    "os.listdir(working_dir)"
   ]
  },
  {
   "cell_type": "markdown",
   "metadata": {},
   "source": [
    "Load venctricle mesh and save OBJ"
   ]
  },
  {
   "cell_type": "code",
   "execution_count": 3,
   "metadata": {},
   "outputs": [
    {
     "data": {
      "text/plain": [
       "['verts', 'faces', 'normals', 'values']"
      ]
     },
     "execution_count": 3,
     "metadata": {},
     "output_type": "execute_result"
    }
   ],
   "source": [
    "mesh = cyto.load_mesh(os.path.join(working_dir, 'mesh_ventricles.pkl'))\n",
    "list(mesh.keys())"
   ]
  },
  {
   "cell_type": "code",
   "execution_count": 13,
   "metadata": {},
   "outputs": [
    {
     "name": "stdout",
     "output_type": "stream",
     "text": [
      "File written 30%\n",
      "File written 60%\n"
     ]
    }
   ],
   "source": [
    "cyto.write_obj(name=os.path.join(working_dir, 'mesh.obj'), one=True, **mesh)"
   ]
  },
  {
   "cell_type": "markdown",
   "metadata": {},
   "source": [
    "Load nuclei points, subsample, and save OBJ"
   ]
  },
  {
   "cell_type": "code",
   "execution_count": 13,
   "metadata": {},
   "outputs": [
    {
     "data": {
      "text/plain": [
       "((2173528, 3), (2173528, 2))"
      ]
     },
     "execution_count": 13,
     "metadata": {},
     "output_type": "execute_result"
    }
   ],
   "source": [
    "centroids_um = np.load(os.path.join(working_dir, 'centroids_um.npy'))\n",
    "celltype_labels = np.load(os.path.join(working_dir, 'nuclei_gating.npy'))\n",
    "centroids_um.shape, celltype_labels.shape"
   ]
  },
  {
   "cell_type": "code",
   "execution_count": 15,
   "metadata": {},
   "outputs": [
    {
     "data": {
      "text/plain": [
       "((10000, 3), (10000, 3), (10000, 3))"
      ]
     },
     "execution_count": 15,
     "metadata": {},
     "output_type": "execute_result"
    }
   ],
   "source": [
    "# Option 1 - Sample same number in each\n",
    "\n",
    "n_points = 10_000\n",
    "\n",
    "# SOX2\n",
    "centroids_sox2 = centroids_um[np.where(celltype_labels[:, 0])[0]]\n",
    "idx = np.random.choice(np.arange(len(centroids_sox2)), n_points)\n",
    "points_sox2 = centroids_sox2[idx]\n",
    "\n",
    "# TBR1\n",
    "centroids_tbr1 = centroids_um[np.where(celltype_labels[:, 1])[0]]\n",
    "idx = np.random.choice(np.arange(len(centroids_tbr1)), n_points)\n",
    "points_tbr1 = centroids_tbr1[idx]\n",
    "\n",
    "# DN\n",
    "loc = np.where(np.logical_and(celltype_labels[:, 0] == 0, \n",
    "                              celltype_labels[:, 1] == 0))[0]\n",
    "centroids_dn = centroids_um[loc]\n",
    "idx = np.random.choice(np.arange(len(centroids_dn)), n_points)\n",
    "points_dn = centroids_dn[idx]\n",
    "\n",
    "points_sox2.shape, points_tbr1.shape, points_dn.shape"
   ]
  },
  {
   "cell_type": "code",
   "execution_count": 17,
   "metadata": {},
   "outputs": [
    {
     "data": {
      "text/plain": [
       "((21266, 3), (8338, 3), (20765, 3))"
      ]
     },
     "execution_count": 17,
     "metadata": {},
     "output_type": "execute_result"
    }
   ],
   "source": [
    "# Option 2 - Sample overall number\n",
    "\n",
    "n_points = 50_000\n",
    "\n",
    "idx = np.random.choice(np.arange(len(centroids_um)), n_points)\n",
    "centroids_sample = centroids_um[idx]\n",
    "labels_sample = celltype_labels[idx]\n",
    "\n",
    "points_sox2 = centroids_sample[np.where(labels_sample[:, 0])[0]]\n",
    "points_tbr1 = centroids_sample[np.where(labels_sample[:, 1])[0]]\n",
    "loc = np.where(np.logical_and(labels_sample[:, 0] == 0, \n",
    "                              labels_sample[:, 1] == 0))[0]\n",
    "points_dn = centroids_sample[loc]\n",
    "\n",
    "points_sox2.shape, points_tbr1.shape, points_dn.shape"
   ]
  },
  {
   "cell_type": "code",
   "execution_count": 18,
   "metadata": {},
   "outputs": [],
   "source": [
    "cyto.write_point_cloud(os.path.join(working_dir, 'points_sox2_2.obj'), points_sox2)\n",
    "cyto.write_point_cloud(os.path.join(working_dir, 'points_tbr1_2.obj'), points_tbr1)\n",
    "cyto.write_point_cloud(os.path.join(working_dir, 'points_dn_2.obj'), points_dn)"
   ]
  },
  {
   "cell_type": "markdown",
   "metadata": {},
   "source": [
    "Compute cyto labels for mesh faces"
   ]
  },
  {
   "cell_type": "code",
   "execution_count": 71,
   "metadata": {},
   "outputs": [],
   "source": [
    "from sklearn.neighbors import NearestNeighbors\n",
    "from tqdm import tqdm_notebook as tqdm\n",
    "from scipy.stats import mode"
   ]
  },
  {
   "cell_type": "code",
   "execution_count": 54,
   "metadata": {},
   "outputs": [
    {
     "data": {
      "text/plain": [
       "NearestNeighbors(algorithm='auto', leaf_size=30, metric='minkowski',\n",
       "         metric_params=None, n_jobs=None, n_neighbors=5, p=2, radius=1.0)"
      ]
     },
     "execution_count": 54,
     "metadata": {},
     "output_type": "execute_result"
    }
   ],
   "source": [
    "verts = mesh['verts']\n",
    "nbrs = NearestNeighbors().fit(verts)\n",
    "nbrs"
   ]
  },
  {
   "cell_type": "code",
   "execution_count": 68,
   "metadata": {},
   "outputs": [
    {
     "data": {
      "text/plain": [
       "((118650,), (118650, 3))"
      ]
     },
     "execution_count": 68,
     "metadata": {},
     "output_type": "execute_result"
    }
   ],
   "source": [
    "cyto_labels = np.load(os.path.join(working_dir, 'cyto_labels.npy'))\n",
    "cyto_labels.shape, verts.shape"
   ]
  },
  {
   "cell_type": "code",
   "execution_count": 77,
   "metadata": {},
   "outputs": [
    {
     "data": {
      "application/vnd.jupyter.widget-view+json": {
       "model_id": "162ccaf8ece6429f99325586ec4fbf87",
       "version_major": 2,
       "version_minor": 0
      },
      "text/plain": [
       "HBox(children=(IntProgress(value=0, max=236904), HTML(value='')))"
      ]
     },
     "metadata": {},
     "output_type": "display_data"
    },
    {
     "data": {
      "text/plain": [
       "(236904,)"
      ]
     },
     "execution_count": 77,
     "metadata": {},
     "output_type": "execute_result"
    }
   ],
   "source": [
    "face_labels = []\n",
    "for face_idx in tqdm(mesh['faces'], total=len(mesh['faces'])):\n",
    "    face_centroid = verts[face_idx].mean(axis=0)\n",
    "    dist, indices = nbrs.kneighbors(face_centroid[np.newaxis], n_neighbors=5)\n",
    "    nbrs_labels = cyto_labels[indices[0]]\n",
    "    face_labels.append(mode(nbrs_labels).mode[0])\n",
    "face_labels = np.asarray(face_labels)\n",
    "face_labels.shape"
   ]
  },
  {
   "cell_type": "code",
   "execution_count": 78,
   "metadata": {},
   "outputs": [
    {
     "data": {
      "text/plain": [
       "(dtype('int64'), 5)"
      ]
     },
     "execution_count": 78,
     "metadata": {},
     "output_type": "execute_result"
    }
   ],
   "source": [
    "face_labels.dtype, face_labels.max(axis=0)"
   ]
  },
  {
   "cell_type": "code",
   "execution_count": 79,
   "metadata": {},
   "outputs": [],
   "source": [
    "write_csv(os.path.join(working_dir, 'face_labels.csv'), face_labels)"
   ]
  },
  {
   "cell_type": "markdown",
   "metadata": {},
   "source": [
    "Write our point clouds by niche"
   ]
  },
  {
   "cell_type": "code",
   "execution_count": 83,
   "metadata": {},
   "outputs": [
    {
     "data": {
      "text/plain": [
       "(['DN', 'SOX2', 'TBR1', 'DP', 'MidTBR1', 'MidSOX2', 'MidInter'],\n",
       " (2173528,),\n",
       " True)"
      ]
     },
     "execution_count": 83,
     "metadata": {},
     "output_type": "execute_result"
    }
   ],
   "source": [
    "niche_names = read_csv(os.path.join(working_dir, 'niche_names.csv'))\n",
    "niche_labels = np.load(os.path.join(working_dir, 'niche_labels.npy'))\n",
    "\n",
    "niche_names, niche_labels.shape, len(niche_names) == len(np.unique(niche_labels))"
   ]
  },
  {
   "cell_type": "code",
   "execution_count": 88,
   "metadata": {},
   "outputs": [],
   "source": [
    "n_points = 200_000\n",
    "\n",
    "idx = np.random.choice(np.arange(len(centroids_um)), n_points)\n",
    "centroids_sample = centroids_um[idx]\n",
    "labels_sample = niche_labels[idx]"
   ]
  },
  {
   "cell_type": "code",
   "execution_count": 96,
   "metadata": {},
   "outputs": [
    {
     "name": "stdout",
     "output_type": "stream",
     "text": [
      "22637 \t(11.3%)\t cells in DN subpopulation\n",
      "83177 \t(41.6%)\t cells in SOX2 subpopulation\n",
      "31278 \t(15.6%)\t cells in TBR1 subpopulation\n",
      "1489 \t(0.7%)\t cells in DP subpopulation\n",
      "20239 \t(10.1%)\t cells in MidTBR1 subpopulation\n",
      "15675 \t(7.8%)\t cells in MidSOX2 subpopulation\n",
      "25505 \t(12.8%)\t cells in MidInter subpopulation\n"
     ]
    }
   ],
   "source": [
    "basename = 'subpopulation'\n",
    "\n",
    "for i, name in enumerate(niche_names):\n",
    "    idx = np.where(labels_sample == i)[0]\n",
    "    print(f'{len(idx)} \\t({len(idx) / n_points * 100:.1f}%)\\t cells in {name} subpopulation')\n",
    "    \n",
    "    centroids_subpop = centroids_sample[idx]\n",
    "    \n",
    "    filename = f'{basename}_{name}.csv'\n",
    "    path = os.path.join(working_dir, )\n",
    "    cyto.write_point_cloud(os.path.join(working_dir, 'points_sox2_2.obj'), points_sox2)"
   ]
  },
  {
   "cell_type": "code",
   "execution_count": null,
   "metadata": {},
   "outputs": [],
   "source": []
  }
 ],
 "metadata": {
  "kernelspec": {
   "display_name": "Python 3",
   "language": "python",
   "name": "python3"
  },
  "language_info": {
   "codemirror_mode": {
    "name": "ipython",
    "version": 3
   },
   "file_extension": ".py",
   "mimetype": "text/x-python",
   "name": "python",
   "nbconvert_exporter": "python",
   "pygments_lexer": "ipython3",
   "version": "3.6.8"
  }
 },
 "nbformat": 4,
 "nbformat_minor": 2
}
