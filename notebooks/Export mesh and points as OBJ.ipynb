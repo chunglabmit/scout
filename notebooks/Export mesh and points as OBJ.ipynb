{
 "cells": [
  {
   "cell_type": "code",
   "execution_count": 65,
   "metadata": {},
   "outputs": [],
   "source": [
    "import os\n",
    "import numpy as np\n",
    "import plyfile\n",
    "from scout import cyto\n",
    "from scout.utils import write_csv, read_csv"
   ]
  },
  {
   "cell_type": "code",
   "execution_count": 78,
   "metadata": {
    "scrolled": true
   },
   "outputs": [
    {
     "data": {
      "text/plain": [
       "['face_labels.csv',\n",
       " 'organoid_features.xlsx',\n",
       " 'dataset',\n",
       " 'individual_ventricle_cyto.xlsx',\n",
       " 'cyto_labels.npy',\n",
       " 'cyto_names.csv',\n",
       " 'individual_ventricle_cellfreq.xlsx']"
      ]
     },
     "execution_count": 78,
     "metadata": {},
     "output_type": "execute_result"
    }
   ],
   "source": [
    "working_dir = '/data/datasets/organoid_phenotyping/analysis/zika_vs_mock/Zika/20190625_14_48_13_AA_ef24-zika1_488LP15_561LP140_642LP50/'\n",
    "\n",
    "os.listdir(working_dir)"
   ]
  },
  {
   "cell_type": "markdown",
   "metadata": {},
   "source": [
    "Load venctricle mesh and save OBJ"
   ]
  },
  {
   "cell_type": "code",
   "execution_count": 79,
   "metadata": {},
   "outputs": [
    {
     "data": {
      "text/plain": [
       "['verts', 'faces', 'normals', 'values']"
      ]
     },
     "execution_count": 79,
     "metadata": {},
     "output_type": "execute_result"
    }
   ],
   "source": [
    "mesh = cyto.load_mesh(os.path.join(working_dir, 'dataset/mesh_ventricles.pkl'))\n",
    "list(mesh.keys())"
   ]
  },
  {
   "cell_type": "code",
   "execution_count": 80,
   "metadata": {},
   "outputs": [
    {
     "name": "stdout",
     "output_type": "stream",
     "text": [
      "File written 30%\n",
      "File written 60%\n"
     ]
    }
   ],
   "source": [
    "cyto.write_obj(name=os.path.join(working_dir, 'dataset/mesh.obj'), one=True, **mesh)"
   ]
  },
  {
   "cell_type": "markdown",
   "metadata": {},
   "source": [
    "Load nuclei points, subsample, and save OBJ"
   ]
  },
  {
   "cell_type": "code",
   "execution_count": 68,
   "metadata": {},
   "outputs": [
    {
     "data": {
      "text/plain": [
       "((469702, 3), (469702, 2))"
      ]
     },
     "execution_count": 68,
     "metadata": {},
     "output_type": "execute_result"
    }
   ],
   "source": [
    "centroids_um = np.load(os.path.join(working_dir, 'dataset/centroids_um.npy'))\n",
    "celltype_labels = np.load(os.path.join(working_dir, 'dataset/nuclei_gating.npy'))\n",
    "centroids_um.shape, celltype_labels.shape"
   ]
  },
  {
   "cell_type": "code",
   "execution_count": 15,
   "metadata": {},
   "outputs": [
    {
     "data": {
      "text/plain": [
       "((10000, 3), (10000, 3), (10000, 3))"
      ]
     },
     "execution_count": 15,
     "metadata": {},
     "output_type": "execute_result"
    }
   ],
   "source": [
    "# Option 1 - Sample same number in each\n",
    "\n",
    "n_points = 10_000\n",
    "\n",
    "# SOX2\n",
    "centroids_sox2 = centroids_um[np.where(celltype_labels[:, 0])[0]]\n",
    "idx = np.random.choice(np.arange(len(centroids_sox2)), n_points)\n",
    "points_sox2 = centroids_sox2[idx]\n",
    "\n",
    "# TBR1\n",
    "centroids_tbr1 = centroids_um[np.where(celltype_labels[:, 1])[0]]\n",
    "idx = np.random.choice(np.arange(len(centroids_tbr1)), n_points)\n",
    "points_tbr1 = centroids_tbr1[idx]\n",
    "\n",
    "# DN\n",
    "loc = np.where(np.logical_and(celltype_labels[:, 0] == 0, \n",
    "                              celltype_labels[:, 1] == 0))[0]\n",
    "centroids_dn = centroids_um[loc]\n",
    "idx = np.random.choice(np.arange(len(centroids_dn)), n_points)\n",
    "points_dn = centroids_dn[idx]\n",
    "\n",
    "points_sox2.shape, points_tbr1.shape, points_dn.shape"
   ]
  },
  {
   "cell_type": "code",
   "execution_count": 69,
   "metadata": {},
   "outputs": [
    {
     "data": {
      "text/plain": [
       "((11450, 3), (287, 3), (38335, 3))"
      ]
     },
     "execution_count": 69,
     "metadata": {},
     "output_type": "execute_result"
    }
   ],
   "source": [
    "# Option 2 - Sample overall number\n",
    "\n",
    "n_points = 50_000\n",
    "\n",
    "idx = np.random.choice(np.arange(len(centroids_um)), n_points)\n",
    "centroids_sample = centroids_um[idx]\n",
    "labels_sample = celltype_labels[idx]\n",
    "\n",
    "points_sox2 = centroids_sample[np.where(labels_sample[:, 0])[0]]\n",
    "points_tbr1 = centroids_sample[np.where(labels_sample[:, 1])[0]]\n",
    "loc = np.where(np.logical_and(labels_sample[:, 0] == 0, \n",
    "                              labels_sample[:, 1] == 0))[0]\n",
    "points_dn = centroids_sample[loc]\n",
    "\n",
    "points_sox2.shape, points_tbr1.shape, points_dn.shape"
   ]
  },
  {
   "cell_type": "code",
   "execution_count": 36,
   "metadata": {},
   "outputs": [],
   "source": [
    "cyto.write_point_cloud(os.path.join(working_dir, 'dataset/points_sox2.obj'), points_sox2)\n",
    "cyto.write_point_cloud(os.path.join(working_dir, 'dataset/points_tbr1.obj'), points_tbr1)\n",
    "cyto.write_point_cloud(os.path.join(working_dir, 'dataset/points_dn.obj'), points_dn)"
   ]
  },
  {
   "cell_type": "markdown",
   "metadata": {},
   "source": [
    "Compute cyto labels for mesh faces"
   ]
  },
  {
   "cell_type": "code",
   "execution_count": 81,
   "metadata": {},
   "outputs": [],
   "source": [
    "from sklearn.neighbors import NearestNeighbors\n",
    "from tqdm import tqdm_notebook as tqdm\n",
    "from scipy.stats import mode"
   ]
  },
  {
   "cell_type": "code",
   "execution_count": 82,
   "metadata": {},
   "outputs": [
    {
     "data": {
      "text/plain": [
       "['Surface-TBR1', 'Surface-DN', 'DN', 'Artifacts', 'Adjacent']"
      ]
     },
     "execution_count": 82,
     "metadata": {},
     "output_type": "execute_result"
    }
   ],
   "source": [
    "cyto_names = read_csv(os.path.join(working_dir, 'cyto_names.csv'))\n",
    "cyto_names"
   ]
  },
  {
   "cell_type": "code",
   "execution_count": 83,
   "metadata": {},
   "outputs": [
    {
     "data": {
      "text/plain": [
       "NearestNeighbors(algorithm='auto', leaf_size=30, metric='minkowski',\n",
       "         metric_params=None, n_jobs=None, n_neighbors=5, p=2, radius=1.0)"
      ]
     },
     "execution_count": 83,
     "metadata": {},
     "output_type": "execute_result"
    }
   ],
   "source": [
    "verts = mesh['verts']\n",
    "nbrs = NearestNeighbors().fit(verts)\n",
    "nbrs"
   ]
  },
  {
   "cell_type": "code",
   "execution_count": 84,
   "metadata": {},
   "outputs": [
    {
     "data": {
      "text/plain": [
       "((127829,), (127829, 3), array([0, 1, 2, 3, 4]))"
      ]
     },
     "execution_count": 84,
     "metadata": {},
     "output_type": "execute_result"
    }
   ],
   "source": [
    "cyto_labels = np.load(os.path.join(working_dir, 'cyto_labels.npy'))\n",
    "cyto_labels.shape, verts.shape, np.unique(cyto_labels)"
   ]
  },
  {
   "cell_type": "code",
   "execution_count": 85,
   "metadata": {},
   "outputs": [
    {
     "data": {
      "application/vnd.jupyter.widget-view+json": {
       "model_id": "2f9370f4bc6948dd8c199fd160444886",
       "version_major": 2,
       "version_minor": 0
      },
      "text/plain": [
       "HBox(children=(IntProgress(value=0, max=254842), HTML(value='')))"
      ]
     },
     "metadata": {},
     "output_type": "display_data"
    },
    {
     "name": "stdout",
     "output_type": "stream",
     "text": [
      "\n"
     ]
    },
    {
     "data": {
      "text/plain": [
       "(254842,)"
      ]
     },
     "execution_count": 85,
     "metadata": {},
     "output_type": "execute_result"
    }
   ],
   "source": [
    "face_labels = []\n",
    "for face_idx in tqdm(mesh['faces'], total=len(mesh['faces'])):\n",
    "    face_centroid = verts[face_idx].mean(axis=0)\n",
    "    dist, indices = nbrs.kneighbors(face_centroid[np.newaxis], n_neighbors=5)\n",
    "    nbrs_labels = cyto_labels[indices[0]]\n",
    "    face_labels.append(mode(nbrs_labels).mode[0])\n",
    "face_labels = np.asarray(face_labels)\n",
    "face_labels.shape"
   ]
  },
  {
   "cell_type": "code",
   "execution_count": 88,
   "metadata": {},
   "outputs": [
    {
     "data": {
      "text/plain": [
       "(dtype('int64'), 4, array([0, 1, 2, 3, 4]))"
      ]
     },
     "execution_count": 88,
     "metadata": {},
     "output_type": "execute_result"
    }
   ],
   "source": [
    "face_labels.dtype, face_labels.max(axis=0), np.unique(face_labels)"
   ]
  },
  {
   "cell_type": "code",
   "execution_count": 87,
   "metadata": {},
   "outputs": [],
   "source": [
    "write_csv(os.path.join(working_dir, 'face_labels.csv'), face_labels)"
   ]
  },
  {
   "cell_type": "markdown",
   "metadata": {},
   "source": [
    "Write our point clouds by niche"
   ]
  },
  {
   "cell_type": "code",
   "execution_count": 83,
   "metadata": {},
   "outputs": [
    {
     "data": {
      "text/plain": [
       "(['DN', 'SOX2', 'TBR1', 'DP', 'MidTBR1', 'MidSOX2', 'MidInter'],\n",
       " (2173528,),\n",
       " True)"
      ]
     },
     "execution_count": 83,
     "metadata": {},
     "output_type": "execute_result"
    }
   ],
   "source": [
    "niche_names = read_csv(os.path.join(working_dir, 'niche_names.csv'))\n",
    "niche_labels = np.load(os.path.join(working_dir, 'niche_labels.npy'))\n",
    "\n",
    "niche_names, niche_labels.shape, len(niche_names) == len(np.unique(niche_labels))"
   ]
  },
  {
   "cell_type": "code",
   "execution_count": 88,
   "metadata": {},
   "outputs": [],
   "source": [
    "n_points = 200_000\n",
    "\n",
    "idx = np.random.choice(np.arange(len(centroids_um)), n_points)\n",
    "centroids_sample = centroids_um[idx]\n",
    "labels_sample = niche_labels[idx]"
   ]
  },
  {
   "cell_type": "code",
   "execution_count": 100,
   "metadata": {},
   "outputs": [
    {
     "name": "stdout",
     "output_type": "stream",
     "text": [
      "Saved 22637 (11.3%) cells to subpopulation_DN.obj\n",
      "Saved 83177 (41.6%) cells to subpopulation_SOX2.obj\n",
      "Saved 31278 (15.6%) cells to subpopulation_TBR1.obj\n",
      "Saved 1489 (0.7%) cells to subpopulation_DP.obj\n",
      "Saved 20239 (10.1%) cells to subpopulation_MidTBR1.obj\n",
      "Saved 15675 (7.8%) cells to subpopulation_MidSOX2.obj\n",
      "Saved 25505 (12.8%) cells to subpopulation_MidInter.obj\n"
     ]
    }
   ],
   "source": [
    "basename = 'subpopulation'\n",
    "\n",
    "for i, name in enumerate(niche_names):\n",
    "    idx = np.where(labels_sample == i)[0]\n",
    "    centroids_subpop = centroids_sample[idx]\n",
    "    filename = f'{basename}_{name}.obj'\n",
    "    path = os.path.join(working_dir, filename)\n",
    "    cyto.write_point_cloud(path, centroids_subpop)\n",
    "    print(f'Saved {len(idx)} ({len(idx) / n_points * 100:.1f}%) cells to {filename}')"
   ]
  },
  {
   "cell_type": "code",
   "execution_count": null,
   "metadata": {},
   "outputs": [],
   "source": []
  }
 ],
 "metadata": {
  "kernelspec": {
   "display_name": "Python 3",
   "language": "python",
   "name": "python3"
  },
  "language_info": {
   "codemirror_mode": {
    "name": "ipython",
    "version": 3
   },
   "file_extension": ".py",
   "mimetype": "text/x-python",
   "name": "python",
   "nbconvert_exporter": "python",
   "pygments_lexer": "ipython3",
   "version": "3.6.8"
  }
 },
 "nbformat": 4,
 "nbformat_minor": 2
}
