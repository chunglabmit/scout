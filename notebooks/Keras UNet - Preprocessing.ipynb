{
 "cells": [
  {
   "cell_type": "code",
   "execution_count": 2,
   "metadata": {},
   "outputs": [],
   "source": [
    "import os\n",
    "import glob\n",
    "import numpy as np\n",
    "from tifffile import imread, imsave\n",
    "from tqdm import tqdm_notebook as tqdm\n",
    "from skimage.exposure import histogram\n",
    "import matplotlib.pyplot as plt"
   ]
  },
  {
   "cell_type": "code",
   "execution_count": 6,
   "metadata": {},
   "outputs": [
    {
     "data": {
      "text/plain": [
       "['/media/share6/Justin/zika/syto_zika3.tif',\n",
       " '/media/share6/Justin/zika/syto_zika4.tif']"
      ]
     },
     "execution_count": 6,
     "metadata": {},
     "output_type": "execute_result"
    }
   ],
   "source": [
    "working_dir = '/media/share6/Justin/'# '/data/datasets/ventricle_segmentation'\n",
    "original_dir = os.path.join(working_dir, 'zika')\n",
    "\n",
    "syto_paths = glob.glob(os.path.join(original_dir, 'syto*.tif'))\n",
    "syto_paths.sort()\n",
    "\n",
    "syto_paths"
   ]
  },
  {
   "cell_type": "code",
   "execution_count": 7,
   "metadata": {},
   "outputs": [
    {
     "data": {
      "application/vnd.jupyter.widget-view+json": {
       "model_id": "3e056b99cb6f43f9b3a5224b9bf9e601",
       "version_major": 2,
       "version_minor": 0
      },
      "text/plain": [
       "HBox(children=(IntProgress(value=0, max=2), HTML(value='')))"
      ]
     },
     "metadata": {},
     "output_type": "display_data"
    },
    {
     "name": "stdout",
     "output_type": "stream",
     "text": [
      "\n"
     ]
    }
   ],
   "source": [
    "percentile = 99.7\n",
    "\n",
    "for path in tqdm(syto_paths, total=len(syto_paths)):\n",
    "    \n",
    "    # Load image\n",
    "    img = imread(path)\n",
    "    \n",
    "    # Compute histogram\n",
    "    freq, centers = histogram(img)\n",
    "    \n",
    "    # Find intensity of 99.7 percentile\n",
    "    total = freq.sum()\n",
    "    cdf = np.cumsum(freq)\n",
    "    target = total * (percentile / 100)\n",
    "    abs_diff = np.abs(cdf - target)\n",
    "    idx = np.where(abs_diff == abs_diff.min())[0]\n",
    "    max_val = centers[idx][0]\n",
    "    \n",
    "    # Scale image\n",
    "    preprocessed = img / max_val\n",
    "    \n",
    "    # Save image\n",
    "    output_name = os.path.join(os.path.basename(path).split('.')[0] + '_preprocessed.tif')\n",
    "    output_path = os.path.join(original_dir, output_name)\n",
    "    imsave(output_path, preprocessed, compress=1)\n",
    "    "
   ]
  },
  {
   "cell_type": "code",
   "execution_count": null,
   "metadata": {},
   "outputs": [],
   "source": []
  }
 ],
 "metadata": {
  "kernelspec": {
   "display_name": "Python 3",
   "language": "python",
   "name": "python3"
  },
  "language_info": {
   "codemirror_mode": {
    "name": "ipython",
    "version": 3
   },
   "file_extension": ".py",
   "mimetype": "text/x-python",
   "name": "python",
   "nbconvert_exporter": "python",
   "pygments_lexer": "ipython3",
   "version": "3.6.8"
  }
 },
 "nbformat": 4,
 "nbformat_minor": 2
}
