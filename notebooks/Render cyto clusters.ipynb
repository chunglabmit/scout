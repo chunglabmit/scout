{
 "cells": [
  {
   "cell_type": "code",
   "execution_count": 59,
   "metadata": {},
   "outputs": [],
   "source": [
    "import os\n",
    "import pickle\n",
    "import numpy as np\n",
    "from mayavi import mlab\n",
    "import seaborn as sns\n",
    "sns.set(style='ticks')"
   ]
  },
  {
   "cell_type": "code",
   "execution_count": 78,
   "metadata": {},
   "outputs": [],
   "source": [
    "palette = sns.color_palette('muted')"
   ]
  },
  {
   "cell_type": "code",
   "execution_count": 81,
   "metadata": {
    "scrolled": true
   },
   "outputs": [
    {
     "data": {
      "text/plain": [
       "['niche_proximities_sample.npy',\n",
       " 'centroids.npy',\n",
       " 'centroids_um.npy',\n",
       " 'cyto_labels.npy',\n",
       " 'cyto_profiles.npy',\n",
       " 'cyto_profiles_sample.npy',\n",
       " 'Ex0_denoised',\n",
       " 'Ex0_hist.csv',\n",
       " 'Ex1_denoised',\n",
       " 'Ex1_hist.csv',\n",
       " 'Ex1_rescaled',\n",
       " 'Ex2_denoised',\n",
       " 'Ex2_hist.csv',\n",
       " 'Ex2_rescaled',\n",
       " 'Ex_0_Em_0_destriped_stitched_master',\n",
       " 'Ex_0_rescaled',\n",
       " 'Ex_1_Em_1_destriped_stitched',\n",
       " 'Ex_2_Em_2_destriped_stitched',\n",
       " 'mesh_ventricles.pkl',\n",
       " 'metadata.txt',\n",
       " 'niche_labels.npy',\n",
       " 'niche_labels_sample.npy',\n",
       " 'niche_proximities.npy',\n",
       " 'niche_sample_idx.npy',\n",
       " 'niche_sample_index.npy',\n",
       " 'niche_tsne_sample.npy',\n",
       " 'nuclei_binary.zarr',\n",
       " 'nuclei_fluorescence',\n",
       " 'nuclei_foreground.zarr',\n",
       " 'nuclei_morphologies.csv',\n",
       " 'nuclei_probability.zarr',\n",
       " 'nuclei_segmentations.npz',\n",
       " 'org2_ventricles.gif',\n",
       " 'organoid_features.xlsx',\n",
       " 'segment_foreground.tif',\n",
       " 'segment_ventricles.tif',\n",
       " 'sox2.zarr',\n",
       " 'syto.zarr',\n",
       " 'syto_down6x',\n",
       " 'syto_down6x.tif',\n",
       " 'tbr1.zarr',\n",
       " 'voxel_size.csv']"
      ]
     },
     "execution_count": 81,
     "metadata": {},
     "output_type": "execute_result"
    }
   ],
   "source": [
    "working_dir = '/media/jswaney/Drive/Justin/organoid_phenotyping/datasets/d35_wt/20190419_15_50_16_AA_org2_488LP13_561LP120_642LP60/'\n",
    "os.listdir(working_dir)"
   ]
  },
  {
   "cell_type": "markdown",
   "metadata": {},
   "source": [
    "Read the ventricle segmenation"
   ]
  },
  {
   "cell_type": "code",
   "execution_count": 82,
   "metadata": {},
   "outputs": [
    {
     "data": {
      "text/plain": [
       "dict_keys(['verts', 'faces', 'normals', 'values'])"
      ]
     },
     "execution_count": 82,
     "metadata": {},
     "output_type": "execute_result"
    }
   ],
   "source": [
    "with open(os.path.join(working_dir, 'mesh_ventricles.pkl'), mode='rb') as f:\n",
    "    mesh = pickle.load(f)\n",
    "mesh.keys()"
   ]
  },
  {
   "cell_type": "code",
   "execution_count": 83,
   "metadata": {},
   "outputs": [
    {
     "data": {
      "text/plain": [
       "(90244, 3)"
      ]
     },
     "execution_count": 83,
     "metadata": {},
     "output_type": "execute_result"
    }
   ],
   "source": [
    "verts = mesh['verts']\n",
    "faces = mesh['faces']\n",
    "normals = mesh['normals']\n",
    "values = mesh['values']\n",
    "\n",
    "normals.shape"
   ]
  },
  {
   "cell_type": "markdown",
   "metadata": {},
   "source": [
    "Read the profile labels"
   ]
  },
  {
   "cell_type": "code",
   "execution_count": 84,
   "metadata": {},
   "outputs": [
    {
     "data": {
      "text/plain": [
       "((90244,), array([0, 1, 2, 3, 4, 5]))"
      ]
     },
     "execution_count": 84,
     "metadata": {},
     "output_type": "execute_result"
    }
   ],
   "source": [
    "labels = np.load(os.path.join(working_dir, 'cyto_labels.npy'))\n",
    "\n",
    "labels.shape, np.unique(labels)"
   ]
  },
  {
   "cell_type": "markdown",
   "metadata": {},
   "source": [
    "Make the rendered ventricles"
   ]
  },
  {
   "cell_type": "code",
   "execution_count": 102,
   "metadata": {},
   "outputs": [
    {
     "name": "stdout",
     "output_type": "stream",
     "text": [
      "(0.2823529411764706, 0.47058823529411764, 0.8156862745098039)\n",
      "(0.9333333333333333, 0.5215686274509804, 0.2901960784313726)\n",
      "(0.41568627450980394, 0.8, 0.39215686274509803)\n",
      "(0.8392156862745098, 0.37254901960784315, 0.37254901960784315)\n",
      "(0.5843137254901961, 0.4235294117647059, 0.7058823529411765)\n",
      "(0.5490196078431373, 0.3803921568627451, 0.23529411764705882)\n"
     ]
    }
   ],
   "source": [
    "n_clusters = 6\n",
    "\n",
    "surf = mlab.triangular_mesh([vert[0] for vert in verts],\n",
    "                     [vert[1] for vert in verts],\n",
    "                     [vert[2] for vert in verts],\n",
    "                     faces,\n",
    "                     colormap='cool',\n",
    "                    vmin=0,\n",
    "                    vmax=255,\n",
    "                     scalars=labels)\n",
    "\n",
    "lut = surf.module_manager.scalar_lut_manager.lut.table.to_array()\n",
    "\n",
    "# # Class 0 RGBA color\n",
    "# lut[0, 0] = palette[0][0] * 255\n",
    "# lut[0, 1] = palette[0][1] * 255\n",
    "# lut[0, 2] = palette[0][2] * 255\n",
    "# lut[0, 3] = 255\n",
    "\n",
    "# Use seaborn color palette\n",
    "for i in range(n_clusters):\n",
    "#     if i != 3:\n",
    "#         lut[i, 3] = 0\n",
    "#         continue\n",
    "    color = palette[i]\n",
    "    print(color)\n",
    "    for j, c in enumerate(color):\n",
    "        val = int(c * 255)\n",
    "        lut[i, j] = val\n",
    "    \n",
    "surf.module_manager.scalar_lut_manager.lut.table = lut\n",
    "\n",
    "mlab.show()"
   ]
  },
  {
   "cell_type": "code",
   "execution_count": 79,
   "metadata": {},
   "outputs": [
    {
     "data": {
      "image/png": "[encoded data removed]",
      "text/plain": [
       "<Figure size 720x72 with 1 Axes>"
      ]
     },
     "metadata": {},
     "output_type": "display_data"
    }
   ],
   "source": [
    "sns.palplot(palette)"
   ]
  },
  {
   "cell_type": "code",
   "execution_count": 40,
   "metadata": {},
   "outputs": [
    {
     "data": {
      "text/plain": [
       "[(0.00784313725490196, 0.24313725490196078, 1.0),\n",
       " (1.0, 0.48627450980392156, 0.0),\n",
       " (0.10196078431372549, 0.788235294117647, 0.2196078431372549),\n",
       " (0.9098039215686274, 0.0, 0.043137254901960784),\n",
       " (0.5450980392156862, 0.16862745098039217, 0.8862745098039215),\n",
       " (0.6235294117647059, 0.2823529411764706, 0.0),\n",
       " (0.9450980392156862, 0.2980392156862745, 0.7568627450980392),\n",
       " (0.6392156862745098, 0.6392156862745098, 0.6392156862745098),\n",
       " (1.0, 0.7686274509803922, 0.0),\n",
       " (0.0, 0.8431372549019608, 1.0)]"
      ]
     },
     "execution_count": 40,
     "metadata": {},
     "output_type": "execute_result"
    }
   ],
   "source": [
    "palette"
   ]
  },
  {
   "cell_type": "code",
   "execution_count": 58,
   "metadata": {},
   "outputs": [
    {
     "data": {
      "text/plain": [
       "array([0, 1, 2, 3, 6, 7], dtype=int32)"
      ]
     },
     "execution_count": 58,
     "metadata": {},
     "output_type": "execute_result"
    }
   ],
   "source": [
    "np.unique(labels)"
   ]
  },
  {
   "cell_type": "code",
   "execution_count": null,
   "metadata": {},
   "outputs": [],
   "source": []
  }
 ],
 "metadata": {
  "kernelspec": {
   "display_name": "Python 3",
   "language": "python",
   "name": "python3"
  },
  "language_info": {
   "codemirror_mode": {
    "name": "ipython",
    "version": 3
   },
   "file_extension": ".py",
   "mimetype": "text/x-python",
   "name": "python",
   "nbconvert_exporter": "python",
   "pygments_lexer": "ipython3",
   "version": "3.6.8"
  }
 },
 "nbformat": 4,
 "nbformat_minor": 2
}
