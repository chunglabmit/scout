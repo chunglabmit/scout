{
 "cells": [
  {
   "cell_type": "code",
   "execution_count": 9,
   "metadata": {},
   "outputs": [],
   "source": [
    "import os\n",
    "import numpy as np"
   ]
  },
  {
   "cell_type": "code",
   "execution_count": 3,
   "metadata": {},
   "outputs": [
    {
     "data": {
      "text/plain": [
       "['20180830_organoid',\n",
       " '20181206_eF9_A34',\n",
       " '20181206_eF9_A34_1',\n",
       " '20190419_14_35_07_AA_org1_488LP13_561LP120_642LP60',\n",
       " '20190419_15_50_16_AA_org2_488LP13_561LP120_642LP60',\n",
       " '20190419_16_09_03_AA_org3_488LP13_561LP120_642LP60',\n",
       " 'organoid',\n",
       " 'organoid_etango',\n",
       " 'organoid_etango_small']"
      ]
     },
     "execution_count": 3,
     "metadata": {},
     "output_type": "execute_result"
    }
   ],
   "source": [
    "working_dir = '..'\n",
    "datasets = os.listdir(working_dir)\n",
    "datasets"
   ]
  },
  {
   "cell_type": "code",
   "execution_count": 6,
   "metadata": {},
   "outputs": [
    {
     "data": {
      "text/plain": [
       "['../20190419_14_35_07_AA_org1_488LP13_561LP120_642LP60',\n",
       " '../20190419_15_50_16_AA_org2_488LP13_561LP120_642LP60',\n",
       " '../20190419_16_09_03_AA_org3_488LP13_561LP120_642LP60']"
      ]
     },
     "execution_count": 6,
     "metadata": {},
     "output_type": "execute_result"
    }
   ],
   "source": [
    "orgs = [os.path.join(working_dir, d) for d in datasets[3:6]]\n",
    "orgs"
   ]
  },
  {
   "cell_type": "code",
   "execution_count": 10,
   "metadata": {},
   "outputs": [
    {
     "data": {
      "text/plain": [
       "(10000, 2)"
      ]
     },
     "execution_count": 10,
     "metadata": {},
     "output_type": "execute_result"
    }
   ],
   "source": [
    "proximities = [np.load(os.path.join(org, 'niche_proximities_sample.npy')) for org in orgs]\n",
    "proximities[0].shape"
   ]
  },
  {
   "cell_type": "code",
   "execution_count": null,
   "metadata": {},
   "outputs": [],
   "source": [
    "proximities = np.concatenate(proximities)"
   ]
  }
 ],
 "metadata": {
  "kernelspec": {
   "display_name": "Python 3",
   "language": "python",
   "name": "python3"
  },
  "language_info": {
   "codemirror_mode": {
    "name": "ipython",
    "version": 3
   },
   "file_extension": ".py",
   "mimetype": "text/x-python",
   "name": "python",
   "nbconvert_exporter": "python",
   "pygments_lexer": "ipython3",
   "version": "3.6.8"
  }
 },
 "nbformat": 4,
 "nbformat_minor": 2
}
