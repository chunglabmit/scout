{
 "cells": [
  {
   "cell_type": "code",
   "execution_count": 11,
   "metadata": {},
   "outputs": [],
   "source": [
    "import os\n",
    "import numpy as np\n",
    "import shutil\n",
    "from tqdm import tqdm_notebook as tqdm"
   ]
  },
  {
   "cell_type": "raw",
   "metadata": {},
   "source": [
    "Fix order of channels in profiles"
   ]
  },
  {
   "cell_type": "code",
   "execution_count": 9,
   "metadata": {
    "scrolled": true
   },
   "outputs": [
    {
     "data": {
      "text/plain": [
       "['/data/datasets/organoid_phenotyping/datasets/20190419_14_35_07_AA_org1_488LP13_561LP120_642LP60',\n",
       " '/data/datasets/organoid_phenotyping/datasets/20190419_15_50_16_AA_org2_488LP13_561LP120_642LP60',\n",
       " '/data/datasets/organoid_phenotyping/datasets/20190419_16_09_03_AA_org3_488LP13_561LP120_642LP60',\n",
       " '/data/datasets/organoid_phenotyping/datasets/20190430_11_36_09_AA-4.30.19-org1_488LP12p5_561LP120_642LP50',\n",
       " '/data/datasets/organoid_phenotyping/datasets/20190430_15_06_10_AA-4.30.19-org3_488LP13_561LP120_642LP50',\n",
       " '/data/datasets/organoid_phenotyping/datasets/20190509_16_55_31_AA-orgs5.8.19_org1_488LP15_561LP140_642LP50',\n",
       " '/data/datasets/organoid_phenotyping/datasets/20190531_14_31_36_AA_fatty2_488LP13_561LP140_642LP60',\n",
       " '/data/datasets/organoid_phenotyping/datasets/20190531_15_00_56_AA_fatty3_488LP13_561LP120_642LP50',\n",
       " '/data/datasets/organoid_phenotyping/datasets/20190531_15_57_33_AA_fatty1_488LP13_561LP100_642LP60',\n",
       " '/data/datasets/organoid_phenotyping/datasets/20190531_17_03_00_AA_fatty4_488LP13_561LP100_642LP50',\n",
       " '/data/datasets/organoid_phenotyping/datasets/20190531_17_54_24_AA_fatty5_488LP14_561LP100_642LP50',\n",
       " '/data/datasets/organoid_phenotyping/datasets/20190531_18_54_48_AA_fatty6_488LP14_561LP100_642LP50',\n",
       " '/data/datasets/organoid_phenotyping/datasets/20190531_20_32_55_AA_fatty7_488LP13_561LP140_642LP50',\n",
       " '/data/datasets/organoid_phenotyping/datasets/20190614_14_03_07_AA_ef23-1_488LP14_561LP120_642LP60',\n",
       " '/data/datasets/organoid_phenotyping/datasets/20190614_14_48_43_AA_ef23-2_488LP14_561LP120_642LP50',\n",
       " '/data/datasets/organoid_phenotyping/datasets/20190614_15_40_09_AA_ef23-3_488LP14_561LP120_642LP50',\n",
       " '/data/datasets/organoid_phenotyping/datasets/20190614_17_14_47_AA_ef23-4_488LP14_561LP120_642LP50',\n",
       " '/data/datasets/organoid_phenotyping/datasets/20190614_17_55_05_AA_ef23-5_488LP15_561LP120_642LP50',\n",
       " '/data/datasets/organoid_phenotyping/datasets/20190614_18_12_44_AA_ef23-6_488LP14_561LP120_642LP50',\n",
       " '/data/datasets/organoid_phenotyping/datasets/20190614_18_27_34_AA_ef23-7_488LP14_561LP120_642LP50',\n",
       " '/data/datasets/organoid_phenotyping/datasets/20190625_12_18_15_AA_ef24-ctrl1_488LP14_561LP140_642LP50',\n",
       " '/data/datasets/organoid_phenotyping/datasets/20190625_12_38_41_AA_ef24-ctrl2_488LP13_561LP140_642LP50',\n",
       " '/data/datasets/organoid_phenotyping/datasets/20190625_13_00_22_AA_ef24-ctrl3_488LP15_561LP140_642LP50',\n",
       " '/data/datasets/organoid_phenotyping/datasets/20190625_13_54_38_AA_ef24-ctrl4_488LP14_561LP140_642LP50',\n",
       " '/data/datasets/organoid_phenotyping/datasets/20190625_14_13_45_AA_ef24-ctrl5_488LP13_561LP140_642LP50',\n",
       " '/data/datasets/organoid_phenotyping/datasets/20190625_14_48_13_AA_ef24-zika1_488LP15_561LP140_642LP50',\n",
       " '/data/datasets/organoid_phenotyping/datasets/20190625_15_22_42_AA_ef24-zika2_488LP20_561LP140_642LP50',\n",
       " '/data/datasets/organoid_phenotyping/datasets/20190625_16_04_10_AA_ef24-zika3_488LP18_561LP140_642LP50',\n",
       " '/data/datasets/organoid_phenotyping/datasets/20190625_16_22_54_AA_ef24-zika4_488LP18_561LP140_642LP50',\n",
       " '/data/datasets/organoid_phenotyping/datasets/20190625_16_31_09_AA_ef24-zika5_488LP14_561LP140_642LP50',\n",
       " '/data/datasets/organoid_phenotyping/datasets/20190625_17_15_27_AA_ef24-zika6_488LP25_561LP140_642LP50',\n",
       " '/data/datasets/organoid_phenotyping/datasets/20190702_18_25_23_eF25_M1_488LP18_561LP160_642LP50',\n",
       " '/data/datasets/organoid_phenotyping/datasets/20190702_18_48_11_eF25_M2_488LP18_561LP160_642LP50',\n",
       " '/data/datasets/organoid_phenotyping/datasets/20190702_19_09_04_eF25_M3_488LP20_561LP160_642LP50',\n",
       " '/data/datasets/organoid_phenotyping/datasets/20190703_14_04_39_eF25_M4_488LP20_561LP160_642LP50',\n",
       " '/data/datasets/organoid_phenotyping/datasets/20190703_14_49_48_eF25_M5_488LP20_561LP160_642LP50',\n",
       " '/data/datasets/organoid_phenotyping/datasets/20190722_16_28_25_ef26_org1_488LP15_561LP140_642LP40',\n",
       " '/data/datasets/organoid_phenotyping/datasets/20190722_17_48_57_ef26_org2_488LP14_561LP140_642LP40',\n",
       " '/data/datasets/organoid_phenotyping/datasets/20190722_18_32_43_ef26_org3_488LP14_561LP140_642LP40',\n",
       " '/data/datasets/organoid_phenotyping/datasets/20190722_19_18_01_ef26_org4_488LP14_561LP140_642LP40',\n",
       " '/data/datasets/organoid_phenotyping/datasets/20190723_11_41_12_ef26_org5_488LP14_561LP140_642LP40',\n",
       " '/data/datasets/organoid_phenotyping/datasets/20190723_12_09_45_ef26_org6_488LP14_561LP140_642LP40']"
      ]
     },
     "execution_count": 9,
     "metadata": {},
     "output_type": "execute_result"
    }
   ],
   "source": [
    "working_dir = '/data/datasets/organoid_phenotyping/datasets/'\n",
    "paths = [os.path.join(working_dir, f) for f in os.listdir(working_dir)]\n",
    "datasets = [p for p in paths if os.path.isdir(p)]\n",
    "datasets.sort()\n",
    "datasets = datasets[:-5] # remove new arlottas\n",
    "datasets"
   ]
  },
  {
   "cell_type": "code",
   "execution_count": 12,
   "metadata": {},
   "outputs": [],
   "source": [
    "def reorganize(profiles):\n",
    "    new = np.zeros_like(profiles)\n",
    "    tbr1 = profiles[:, 0]\n",
    "    sox2 = profiles[:, 1]\n",
    "    dn = profiles[:, 2]\n",
    "    new[:, 0] = sox2\n",
    "    new[:, 1] = tbr1\n",
    "    new[:, 2] = dn\n",
    "    return new"
   ]
  },
  {
   "cell_type": "code",
   "execution_count": 16,
   "metadata": {},
   "outputs": [
    {
     "data": {
      "application/vnd.jupyter.widget-view+json": {
       "model_id": "b6bf29f16fc14aa39f825c5c9224b6c3",
       "version_major": 2,
       "version_minor": 0
      },
      "text/plain": [
       "HBox(children=(IntProgress(value=0, max=41), HTML(value='')))"
      ]
     },
     "metadata": {},
     "output_type": "display_data"
    },
    {
     "name": "stdout",
     "output_type": "stream",
     "text": [
      "\n"
     ]
    }
   ],
   "source": [
    "for dataset in tqdm(datasets[1:], total=len(datasets[1:])):\n",
    "    profiles_old = np.load(os.path.join(dataset, 'cyto_profiles.npy'))\n",
    "    profiles_new = reorganize(profiles_old)\n",
    "    np.save(os.path.join(dataset, 'cyto_profiles.npy'), profiles_new) "
   ]
  },
  {
   "cell_type": "code",
   "execution_count": 15,
   "metadata": {},
   "outputs": [
    {
     "data": {
      "application/vnd.jupyter.widget-view+json": {
       "model_id": "7778354cc8544945b1da4e9aa3d87a5d",
       "version_major": 2,
       "version_minor": 0
      },
      "text/plain": [
       "HBox(children=(IntProgress(value=0, max=42), HTML(value='')))"
      ]
     },
     "metadata": {},
     "output_type": "display_data"
    },
    {
     "name": "stdout",
     "output_type": "stream",
     "text": [
      "\n"
     ]
    }
   ],
   "source": [
    "for dataset in tqdm(datasets, total=len(datasets)):\n",
    "    profiles_sample_old = np.load(os.path.join(dataset, 'cyto_profiles_sample.npy'))\n",
    "    profiles_sample_new = reorganize(profiles_sample_old)\n",
    "    np.save(os.path.join(dataset, 'cyto_profiles_sample.npy'), profiles_sample_new)"
   ]
  },
  {
   "cell_type": "code",
   "execution_count": null,
   "metadata": {},
   "outputs": [],
   "source": []
  }
 ],
 "metadata": {
  "kernelspec": {
   "display_name": "Python 3",
   "language": "python",
   "name": "python3"
  },
  "language_info": {
   "codemirror_mode": {
    "name": "ipython",
    "version": 3
   },
   "file_extension": ".py",
   "mimetype": "text/x-python",
   "name": "python",
   "nbconvert_exporter": "python",
   "pygments_lexer": "ipython3",
   "version": "3.6.8"
  }
 },
 "nbformat": 4,
 "nbformat_minor": 2
}
